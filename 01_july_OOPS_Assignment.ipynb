{
 "cells": [
  {
   "cell_type": "code",
   "execution_count": null,
   "id": "cc8424cf",
   "metadata": {},
   "outputs": [],
   "source": [
    "1.What is the primary goal of Object-Oriented Programming (OOP)?\n",
    "\n",
    "ANS : The primary goal of Object-Oriented Programming (OOP) is to design software in a way that reflects the real-world entities and their interactions. OOP is based on the concept of \"objects,\" which are instances of classes. A class is a blueprint or template that defines the characteristics (attributes) and behaviors (methods) that its objects will have.\n",
    "\n"
   ]
  },
  {
   "cell_type": "code",
   "execution_count": null,
   "id": "432b523d",
   "metadata": {},
   "outputs": [],
   "source": [
    "2.What is an object in Python?\n",
    "ANS : Objects are variables that contain data and functions that can be used to manipulate the data. The object's data can vary in type (string, integer, etc.) depending on how it's been defined. An object is like a mini-program inside python, with its own set of rules and behaviors."
   ]
  },
  {
   "cell_type": "code",
   "execution_count": null,
   "id": "7995a1b6",
   "metadata": {},
   "outputs": [],
   "source": [
    "3.What is a class in Python?\n",
    "ANS: A class is a code template for creating objects. Objects have member variables and have behaviour associated with them. In python a class is created by the keyword class."
   ]
  },
  {
   "cell_type": "code",
   "execution_count": null,
   "id": "4b9d4a9e",
   "metadata": {},
   "outputs": [],
   "source": [
    "4.What are attributes and methods in a class?\n",
    "ANS: \n",
    "\n",
    "Attributes are variables that belong to an object and contain information about its properties and characteristics. They can be used to represent details or facts related to the object. \n",
    "\n",
    "Methods are functions belonging to an object and are designed to perform actions or operations involving the object's attributes. Methods are defined as part of the class the object belongs to and are executed using instances of that particular class.\n",
    "\n",
    "Attributes and methods are two core building blocks of object-oriented programming."
   ]
  },
  {
   "cell_type": "code",
   "execution_count": null,
   "id": "8403f537",
   "metadata": {},
   "outputs": [],
   "source": [
    "5.What is the difference between class variables and instance variables in Python?\n",
    "\n",
    "Instance Variable:\n",
    "It is a variable whose value is instance-specific and now shared among instances. These variables cannot be shared between classes. Instead, they only belong to one specific class. It usually reserves memory for data that the class needs. It is generally created when an instance of the class is created.It normally retains values as long as the object exists. It has many copies so every object has its own personal copy of the instance variable.      \n",
    "\n",
    "Class Variable:\n",
    "It is a variable that defines a specific attribute or property for a class. These variables can be shared between class and its subclasses. It usually maintains a single shared value for all instances of class even if no instance object of the class exists. It is generally created when the program begins to execute. It normally retains values until the program terminates. It has only one copy of the class variable so it is shared among different objects of the class.It can be accessed by calling with the class name.These variables are declared using the keyword static.Changes that are made to these variables through one object will reflect in another object.       "
   ]
  },
  {
   "cell_type": "code",
   "execution_count": null,
   "id": "0d380db0",
   "metadata": {},
   "outputs": [],
   "source": [
    "6.What is the purpose of the self parameter in Python class methods?\n",
    "ANS: In Python, the self parameter in class methods serves as a reference to the instance of the class itself. It is a convention used to pass the instance to the method, allowing the method to access and manipulate the attributes and methods of that instance\n"
   ]
  },
  {
   "cell_type": "code",
   "execution_count": 20,
   "id": "0588e92a",
   "metadata": {},
   "outputs": [],
   "source": [
    "# 7.Ans\n",
    "class Book:\n",
    "     def __init__(self,title,author,isbn,publication_year,available_copies):\n",
    "        self.title = tile\n",
    "        self.author = author\n",
    "        self.isbn = isbn\n",
    "        self.publication_year = publication_year\n",
    "        self.available_copies = available_copies\n",
    "        def check_out(self):\n",
    "            if self.available_copies>0:\n",
    "                self.available_copies-=1\n",
    "                print(f\"Book '{self.title}' check out sucessfully\")\n",
    "            else: \n",
    "                print(f\"Sorry, no available copies of '{self.title}' for checkout.\")\n",
    "        def return_book(self):\n",
    "            if self.available_copies>self.total_copies:\n",
    "                self.available_copies+=1\n",
    "                print(f\"Book '{self.title}' return sucessfully\")\n",
    "            else:\n",
    "                print(f\"AllBook '{self.title}' are available sucessfully\")\n",
    "        def display_book_info(self):\n",
    "            print(f\"Book Information:\")\n",
    "            print(f\"Title: {self.title}\")\n",
    "            print(f\"Author: {self.author}\")\n",
    "            print(f\"ISBN: {self.isbn}\")\n",
    "            print(f\"Publication Year: {self.publication_year}\")\n",
    "            print(f\"Total Copies: {self.total_copies}\")\n",
    "            print(f\"Available Copies: {self.available_copies}\")"
   ]
  },
  {
   "cell_type": "code",
   "execution_count": 8,
   "id": "372642de",
   "metadata": {},
   "outputs": [],
   "source": [
    "# 8:ANS\n",
    "class Ticket:\n",
    "    def __init__ (ticket_id,event_name,event_date,venue,seat_number,price,is_reserved):\n",
    "        self.ticket_id=ticket_id\n",
    "        self.event_name=event_name\n",
    "        self.event_date=event_date\n",
    "        self.venue=venue\n",
    "        self.seat_number=seat_number\n",
    "        self.price=price\n",
    "        self.is_reserved=is_reserved\n",
    "    def reserve_ticket(self):\n",
    "        if not self.is_reserved:\n",
    "            self.is_reserved = TRUE    \n",
    "            print(f'Ticket{Ticket_id}reserved succesfully')\n",
    "        else:\n",
    "            print(f'Ticket{Ticket_id}is already reserved')\n",
    "    def cancel_reservation(self):\n",
    "        if self.is_reserved:\n",
    "            self.is_reserved=False\n",
    "            print(f'Reservation for ticket{ticket_id} is cancelled')\n",
    "        else:\n",
    "            print(f'Ticket{ticket_id}is not reserved')\n",
    "    def display_ticket_info(self):\n",
    "        print(f\"Ticket Information:\")\n",
    "        print(f\"Ticket ID: {self.ticket_id}\")\n",
    "        print(f\"Event Name: {self.event_name}\")\n",
    "        print(f\"Event Date: {self.event_date}\")\n",
    "        print(f\"Venue: {self.venue}\")\n",
    "        print(f\"Seat Number: {self.seat_number}\")\n",
    "        print(f\"Price: {self.price}\")\n",
    "        print(f\"Is Reserved: {'Yes' if self.is_reserved else 'No'}\")"
   ]
  },
  {
   "cell_type": "code",
   "execution_count": 15,
   "id": "4c53e03b",
   "metadata": {},
   "outputs": [],
   "source": [
    "#9.Ans\n",
    "class shoppingCart:\n",
    "    def __init__(self):\n",
    "         self.items=[]\n",
    "    def add_items(self,item):\n",
    "        self.items.append(item)\n",
    "        print(f\"Item {item} added to the shopping cart.\")\n",
    "\n",
    "    def remove_item(self, item):\n",
    "        if item in self.items:\n",
    "            self.items.remove(item)\n",
    "            print(f\"Item {item} removed from the shopping cart.\")\n",
    "        else:\n",
    "            print(f\"Item {item} not found in the shopping cart.\")\n",
    "\n",
    "    def view_cart(self):\n",
    "        if not self.items:\n",
    "            print(\"Shopping cart is empty.\")\n",
    "        else:\n",
    "            print(\"Items in the shopping cart:\")\n",
    "            for item in self.items:\n",
    "                print(f\"- {item}\")\n",
    "\n",
    "    def clear_cart(self):\n",
    "        self.items = []\n",
    "        print(\"Shopping cart cleared.\")\n",
    "\n"
   ]
  },
  {
   "cell_type": "code",
   "execution_count": 16,
   "id": "376ff754",
   "metadata": {},
   "outputs": [],
   "source": [
    "#Ans:10\n",
    "class Student:\n",
    "    def __init__(self, name, age, grade, student_id):\n",
    "        self.name = name\n",
    "        self.age = age\n",
    "        self.grade = grade\n",
    "        self.student_id = student_id\n",
    "        self.attendance = {}\n",
    "\n",
    "    def update_attendance(self, date, status):\n",
    "        if status.lower() in ['present', 'absent']:\n",
    "            self.attendance[date] = status.lower()\n",
    "            print(f\"Attendance updated for {self.name} on {date}: {status.capitalize()}.\")\n",
    "        else:\n",
    "            print(\"Invalid attendance status. Please use 'present' or 'absent'.\")\n",
    "\n",
    "    def get_attendance(self):\n",
    "        return self.attendance\n",
    "\n",
    "    def get_average_attendance(self):\n",
    "        total_days = len(self.attendance)\n",
    "        if total_days == 0:\n",
    "            return 0.0\n",
    "\n",
    "        present_days = sum(1 for status in self.attendance.values() if status == 'present')\n",
    "        average_percentage = (present_days / total_days) * 100\n",
    "        return round(average_percentage, 2)"
   ]
  },
  {
   "cell_type": "code",
   "execution_count": null,
   "id": "be9c285b",
   "metadata": {},
   "outputs": [],
   "source": []
  }
 ],
 "metadata": {
  "kernelspec": {
   "display_name": "Python 3 (ipykernel)",
   "language": "python",
   "name": "python3"
  },
  "language_info": {
   "codemirror_mode": {
    "name": "ipython",
    "version": 3
   },
   "file_extension": ".py",
   "mimetype": "text/x-python",
   "name": "python",
   "nbconvert_exporter": "python",
   "pygments_lexer": "ipython3",
   "version": "3.10.9"
  }
 },
 "nbformat": 4,
 "nbformat_minor": 5
}
